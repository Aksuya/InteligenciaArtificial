{
  "cells": [
    {
      "cell_type": "markdown",
      "metadata": {
        "id": "view-in-github",
        "colab_type": "text"
      },
      "source": [
        "<a href=\"https://colab.research.google.com/github/Aksuya/InteligenciaArtificial/blob/main/Introduccion_a_pandas.ipynb\" target=\"_parent\"><img src=\"https://colab.research.google.com/assets/colab-badge.svg\" alt=\"Open In Colab\"/></a>"
      ]
    },
    {
      "cell_type": "code",
      "source": [
        "import pandas as pd\n",
        "\n",
        "\n",
        "print(pd.__version__)\n",
        "\n",
        "serieData= pd.Series(data=[100, 200, 300], index=['juan','pedro','lucas'])\n",
        "\n",
        "print(serieData)\n",
        "print('/////')\n",
        "print(serieData['pedro'])\n",
        "\n",
        "print(serieData.index)\n",
        "print('pedro' in serieData)\n",
        "\n",
        "myDictionary={'one':pd.Series([100,200,300], index=['juan','pedro','lucas']),\n",
        "                                  'two':pd.Series ([11,22,33], index=['julio', 'pedro', 'lucas']) }\n",
        "\n",
        "#SERIES AND DATAFRAME\n",
        "#\n",
        "df=pd.DataFrame(myDictionary)\n",
        "print(df)\n",
        "print('we are here.....')\n",
        "print(df.index)\n",
        "print(df.columns)\n",
        "\n",
        "print('////////////')\n",
        "print(df.loc['juan'])"
      ],
      "metadata": {
        "id": "R1lmTQDPze3j",
        "outputId": "6509269b-7d28-49ce-85c1-f9feaa6915c4",
        "colab": {
          "base_uri": "https://localhost:8080/"
        }
      },
      "execution_count": null,
      "outputs": [
        {
          "output_type": "stream",
          "name": "stdout",
          "text": [
            "2.0.3\n",
            "juan     100\n",
            "pedro    200\n",
            "lucas    300\n",
            "dtype: int64\n",
            "/////\n",
            "200\n",
            "Index(['juan', 'pedro', 'lucas'], dtype='object')\n",
            "True\n",
            "         one   two\n",
            "juan   100.0   NaN\n",
            "julio    NaN  11.0\n",
            "lucas  300.0  33.0\n",
            "pedro  200.0  22.0\n",
            "we are here.....\n",
            "Index(['juan', 'julio', 'lucas', 'pedro'], dtype='object')\n",
            "Index(['one', 'two'], dtype='object')\n",
            "////////////\n",
            "one    100.0\n",
            "two      NaN\n",
            "Name: juan, dtype: float64\n"
          ]
        }
      ]
    }
  ],
  "metadata": {
    "colab": {
      "toc_visible": true,
      "provenance": [],
      "include_colab_link": true
    },
    "kernelspec": {
      "display_name": "Python 3",
      "name": "python3"
    }
  },
  "nbformat": 4,
  "nbformat_minor": 0
}