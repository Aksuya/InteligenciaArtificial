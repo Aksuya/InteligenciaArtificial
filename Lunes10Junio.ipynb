{
  "nbformat": 4,
  "nbformat_minor": 0,
  "metadata": {
    "colab": {
      "provenance": [],
      "toc_visible": true,
      "authorship_tag": "ABX9TyMPCZQrzXAziONmUfk7dZeY",
      "include_colab_link": true
    },
    "kernelspec": {
      "name": "python3",
      "display_name": "Python 3"
    },
    "language_info": {
      "name": "python"
    }
  },
  "cells": [
    {
      "cell_type": "markdown",
      "metadata": {
        "id": "view-in-github",
        "colab_type": "text"
      },
      "source": [
        "<a href=\"https://colab.research.google.com/github/Aksuya/InteligenciaArtificial/blob/main/Lunes10Junio.ipynb\" target=\"_parent\"><img src=\"https://colab.research.google.com/assets/colab-badge.svg\" alt=\"Open In Colab\"/></a>"
      ]
    },
    {
      "cell_type": "code",
      "execution_count": null,
      "metadata": {
        "id": "gKOoARJwALx-"
      },
      "outputs": [],
      "source": []
    },
    {
      "cell_type": "code",
      "source": [
        "!Python --version"
      ],
      "metadata": {
        "id": "D6T05QwHAMtf"
      },
      "execution_count": null,
      "outputs": []
    },
    {
      "cell_type": "code",
      "source": [
        "myNumber =3\n",
        "myNumberDecimal =3.6\n",
        "state = True"
      ],
      "metadata": {
        "id": "Yp2Y56TKESzE"
      },
      "execution_count": null,
      "outputs": []
    },
    {
      "cell_type": "code",
      "source": [
        "print(f'valor entero: {myNumber}')\n",
        "print(f'valor decimal: {myNumberDecimal}')\n",
        "print(f'valor booleano: {state}')"
      ],
      "metadata": {
        "colab": {
          "base_uri": "https://localhost:8080/"
        },
        "id": "qlkZ5JyVFCHX",
        "outputId": "5a1aa2c0-c11b-4bf0-e240-317173ea2fbb"
      },
      "execution_count": null,
      "outputs": [
        {
          "output_type": "stream",
          "name": "stdout",
          "text": [
            "valor entero: 3\n",
            "valor decimal: 3.6\n",
            "valor booleano: True\n"
          ]
        }
      ]
    },
    {
      "cell_type": "code",
      "source": [
        "aux1 = 10\n",
        "aux2 = 2\n",
        "print(\"La suma de las variables es:\", aux1+aux2)"
      ],
      "metadata": {
        "colab": {
          "base_uri": "https://localhost:8080/"
        },
        "id": "o1Cv-MOCFau5",
        "outputId": "b8b51174-2e6f-429a-bd8e-b92eb6d20405"
      },
      "execution_count": null,
      "outputs": [
        {
          "output_type": "stream",
          "name": "stdout",
          "text": [
            "La suma de las variables es: 12\n"
          ]
        }
      ]
    },
    {
      "cell_type": "code",
      "source": [
        "tmp = aux1**aux2\n",
        "print(\"Resultado de la potencia es: \", tmp)"
      ],
      "metadata": {
        "colab": {
          "base_uri": "https://localhost:8080/"
        },
        "id": "xyjn9TSVF-It",
        "outputId": "ed6d9700-c4aa-4491-a965-1caa5d7ee556"
      },
      "execution_count": null,
      "outputs": [
        {
          "output_type": "stream",
          "name": "stdout",
          "text": [
            "Resultado de la potencia es:  100\n"
          ]
        }
      ]
    },
    {
      "cell_type": "code",
      "source": [
        "var1 = 'Hola!'\n",
        "var2 = ' Oliver'\n",
        "print(var1+var2)"
      ],
      "metadata": {
        "colab": {
          "base_uri": "https://localhost:8080/"
        },
        "id": "LGRwFo1OGxhz",
        "outputId": "ca9c0f2e-59b1-4e8a-c534-15ec01102d9e"
      },
      "execution_count": null,
      "outputs": [
        {
          "output_type": "stream",
          "name": "stdout",
          "text": [
            "Hola! Oliver\n"
          ]
        }
      ]
    },
    {
      "cell_type": "code",
      "source": [
        "print(3*var1)"
      ],
      "metadata": {
        "colab": {
          "base_uri": "https://localhost:8080/"
        },
        "id": "cn91wgOAIBYd",
        "outputId": "0b43b717-751b-445e-cf16-58bd59f3ad64"
      },
      "execution_count": null,
      "outputs": [
        {
          "output_type": "stream",
          "name": "stdout",
          "text": [
            "Hola!Hola!Hola!\n"
          ]
        }
      ]
    },
    {
      "cell_type": "code",
      "source": [
        "num1 = 10\n",
        "num2 = 10.5"
      ],
      "metadata": {
        "id": "S9OZwbZNIDuc"
      },
      "execution_count": null,
      "outputs": []
    },
    {
      "cell_type": "code",
      "source": [
        "print('El tipo de numero es: ',type(num1))\n",
        "print('El tipo de numero es: ',type(num2))"
      ],
      "metadata": {
        "colab": {
          "base_uri": "https://localhost:8080/"
        },
        "id": "nVj2jcc4IGAM",
        "outputId": "6aa3d275-1638-4cc1-83ff-30e19a800042"
      },
      "execution_count": null,
      "outputs": [
        {
          "output_type": "stream",
          "name": "stdout",
          "text": [
            "El tipo de numero es:  <class 'int'>\n",
            "El tipo de numero es:  <class 'float'>\n"
          ]
        }
      ]
    },
    {
      "cell_type": "markdown",
      "source": [
        "25 de junio 2024\n"
      ],
      "metadata": {
        "id": "IvUPFihTlX8g"
      }
    },
    {
      "cell_type": "code",
      "source": [
        "# tmp = list()\n",
        "# tmp.append(2)\n",
        "# print(tmp)\n",
        "# tmp.append('oliver')\n",
        "# print(tmp)\n",
        "# tmp.append(5)\n",
        "# print(tmp)\n",
        "# tmp.append('alexander')\n",
        "# print(tmp)\n",
        "# print(tmp[3])\n",
        "# aux= tmp[3]\n",
        "# print(aux.upper())\n",
        "\n",
        "# tmp1= 'hello'\n",
        "# print(tmp1.capitalize())\n",
        "\n",
        "\n",
        "# aux1=[1,2,3,4,5,6,7,8,9,10]\n",
        "# print(aux1)\n",
        "\n",
        "# aux1[4]=10\n",
        "# print(aux1)\n",
        "\n",
        "\n",
        "# print(aux1[-1])\n",
        "# print(aux1[3:7])\n",
        "# print(aux1[0:5])\n",
        "# print(aux1[:5])\n",
        "\n",
        "\n",
        "# aux2=list()\n",
        "# for i in range(100):\n",
        "#   aux2.append(i)\n",
        "# print(aux2[:20])\n",
        "\n",
        "\n",
        "\n",
        "# aux3=list()\n",
        "# for indx, elem in enumerate(aux2):\n",
        "#   if aux2[indx]%2==0:\n",
        "#     aux3.append(aux2[indx])\n",
        "\n",
        "# print(aux3)\n",
        "\n",
        "\n",
        "# aux3=list()\n",
        "# for indx, elem in enumerate(aux2):\n",
        "#   if aux2[indx]%2==1:\n",
        "#     aux3.append(aux2[indx])\n",
        "\n",
        "# print(aux3)\n",
        "\n",
        "\n",
        "# aux3=list()\n",
        "# for indx, elem in enumerate(aux2):\n",
        "#   if aux2[indx]%2==0:\n",
        "#     aux3.append(aux2[indx]**2)\n",
        "\n",
        "# print(aux3)\n",
        "\n",
        "\n",
        "animal=['gato', 'perro', 'mono', 'raton']\n",
        "for animal in animal:\n",
        "  print(animal)\n",
        "\n",
        "\n",
        "tmp3 = [i**2 for i in range(10)]\n",
        "print(tmp3)\n",
        "\n",
        "tmp3 = [i**2 for i in range(10) if i%2==0]\n",
        "print(tmp3)\n",
        "\n"
      ],
      "metadata": {
        "colab": {
          "base_uri": "https://localhost:8080/"
        },
        "id": "bC15E888lhHH",
        "outputId": "07ccb294-e687-4f61-b892-909114f01b10"
      },
      "execution_count": 37,
      "outputs": [
        {
          "output_type": "stream",
          "name": "stdout",
          "text": [
            "gato\n",
            "perro\n",
            "mono\n",
            "raton\n",
            "[0, 1, 4, 9, 16, 25, 36, 49, 64, 81]\n",
            "[0, 4, 16, 36, 64]\n"
          ]
        }
      ]
    },
    {
      "cell_type": "markdown",
      "source": [
        "Diccionario"
      ],
      "metadata": {
        "id": "cnsLHyRWvbTg"
      }
    },
    {
      "cell_type": "code",
      "source": [
        "myDictionay={'gato': 'bonito', 'perro': 'grande'}\n",
        "print(myDictionay['gato'])\n",
        "\n",
        "myDictionay1={'leon': 'fuerte', 'agila': 'pequeña'}\n",
        "print(myDictionay1['leon'])\n",
        "\n",
        "myDictionay.update(myDictionay1)\n",
        "print(myDictionay)\n",
        "\n",
        "for key, value in myDictionay.items():\n",
        "  print(f'key: {key} value: {value}')\n",
        "\n",
        "\n",
        "myList=[1,2,3,4,5,6]\n",
        "myDictAux1 = {x:x**2 for key, value in myDictionay.items()}\n"
      ],
      "metadata": {
        "colab": {
          "base_uri": "https://localhost:8080/"
        },
        "id": "QIcwGkPMvcwg",
        "outputId": "15995280-7f9b-4100-cf3e-4ffcba350d94"
      },
      "execution_count": 47,
      "outputs": [
        {
          "output_type": "stream",
          "name": "stdout",
          "text": [
            "bonito\n",
            "fuerte\n",
            "{'gato': 'bonito', 'perro': 'grande', 'leon': 'fuerte', 'agila': 'pequeña'}\n",
            "key: gato value: bonito\n",
            "key: perro value: grande\n",
            "key: leon value: fuerte\n",
            "key: agila value: pequeña\n"
          ]
        }
      ]
    }
  ]
}