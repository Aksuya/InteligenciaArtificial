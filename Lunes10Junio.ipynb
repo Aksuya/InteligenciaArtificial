{
  "nbformat": 4,
  "nbformat_minor": 0,
  "metadata": {
    "colab": {
      "provenance": [],
      "toc_visible": true,
      "authorship_tag": "ABX9TyMPgC8YkJ5GEuf/bTsJ0m6H",
      "include_colab_link": true
    },
    "kernelspec": {
      "name": "python3",
      "display_name": "Python 3"
    },
    "language_info": {
      "name": "python"
    }
  },
  "cells": [
    {
      "cell_type": "markdown",
      "metadata": {
        "id": "view-in-github",
        "colab_type": "text"
      },
      "source": [
        "<a href=\"https://colab.research.google.com/github/Aksuya/InteligenciaArtificial/blob/main/Lunes10Junio.ipynb\" target=\"_parent\"><img src=\"https://colab.research.google.com/assets/colab-badge.svg\" alt=\"Open In Colab\"/></a>"
      ]
    },
    {
      "cell_type": "code",
      "execution_count": null,
      "metadata": {
        "id": "gKOoARJwALx-"
      },
      "outputs": [],
      "source": []
    },
    {
      "cell_type": "code",
      "source": [
        "!Python --version"
      ],
      "metadata": {
        "id": "D6T05QwHAMtf"
      },
      "execution_count": null,
      "outputs": []
    },
    {
      "cell_type": "code",
      "source": [
        "myNumber =3\n",
        "myNumberDecimal =3.6\n",
        "state = True"
      ],
      "metadata": {
        "id": "Yp2Y56TKESzE"
      },
      "execution_count": null,
      "outputs": []
    },
    {
      "cell_type": "code",
      "source": [
        "print(f'valor entero: {myNumber}')\n",
        "print(f'valor decimal: {myNumberDecimal}')\n",
        "print(f'valor booleano: {state}')"
      ],
      "metadata": {
        "colab": {
          "base_uri": "https://localhost:8080/"
        },
        "id": "qlkZ5JyVFCHX",
        "outputId": "5a1aa2c0-c11b-4bf0-e240-317173ea2fbb"
      },
      "execution_count": null,
      "outputs": [
        {
          "output_type": "stream",
          "name": "stdout",
          "text": [
            "valor entero: 3\n",
            "valor decimal: 3.6\n",
            "valor booleano: True\n"
          ]
        }
      ]
    },
    {
      "cell_type": "code",
      "source": [
        "aux1 = 10\n",
        "aux2 = 2\n",
        "print(\"La suma de las variables es:\", aux1+aux2)"
      ],
      "metadata": {
        "colab": {
          "base_uri": "https://localhost:8080/"
        },
        "id": "o1Cv-MOCFau5",
        "outputId": "b8b51174-2e6f-429a-bd8e-b92eb6d20405"
      },
      "execution_count": null,
      "outputs": [
        {
          "output_type": "stream",
          "name": "stdout",
          "text": [
            "La suma de las variables es: 12\n"
          ]
        }
      ]
    },
    {
      "cell_type": "code",
      "source": [
        "tmp = aux1**aux2\n",
        "print(\"Resultado de la potencia es: \", tmp)"
      ],
      "metadata": {
        "colab": {
          "base_uri": "https://localhost:8080/"
        },
        "id": "xyjn9TSVF-It",
        "outputId": "ed6d9700-c4aa-4491-a965-1caa5d7ee556"
      },
      "execution_count": null,
      "outputs": [
        {
          "output_type": "stream",
          "name": "stdout",
          "text": [
            "Resultado de la potencia es:  100\n"
          ]
        }
      ]
    },
    {
      "cell_type": "code",
      "source": [
        "var1 = 'Hola!'\n",
        "var2 = ' Oliver'\n",
        "print(var1+var2)"
      ],
      "metadata": {
        "colab": {
          "base_uri": "https://localhost:8080/"
        },
        "id": "LGRwFo1OGxhz",
        "outputId": "ca9c0f2e-59b1-4e8a-c534-15ec01102d9e"
      },
      "execution_count": null,
      "outputs": [
        {
          "output_type": "stream",
          "name": "stdout",
          "text": [
            "Hola! Oliver\n"
          ]
        }
      ]
    },
    {
      "cell_type": "code",
      "source": [
        "print(3*var1)"
      ],
      "metadata": {
        "colab": {
          "base_uri": "https://localhost:8080/"
        },
        "id": "cn91wgOAIBYd",
        "outputId": "0b43b717-751b-445e-cf16-58bd59f3ad64"
      },
      "execution_count": null,
      "outputs": [
        {
          "output_type": "stream",
          "name": "stdout",
          "text": [
            "Hola!Hola!Hola!\n"
          ]
        }
      ]
    },
    {
      "cell_type": "code",
      "source": [
        "num1 = 10\n",
        "num2 = 10.5"
      ],
      "metadata": {
        "id": "S9OZwbZNIDuc"
      },
      "execution_count": null,
      "outputs": []
    },
    {
      "cell_type": "code",
      "source": [
        "print('El tipo de numero es: ',type(num1))\n",
        "print('El tipo de numero es: ',type(num2))"
      ],
      "metadata": {
        "colab": {
          "base_uri": "https://localhost:8080/"
        },
        "id": "nVj2jcc4IGAM",
        "outputId": "6aa3d275-1638-4cc1-83ff-30e19a800042"
      },
      "execution_count": null,
      "outputs": [
        {
          "output_type": "stream",
          "name": "stdout",
          "text": [
            "El tipo de numero es:  <class 'int'>\n",
            "El tipo de numero es:  <class 'float'>\n"
          ]
        }
      ]
    },
    {
      "cell_type": "markdown",
      "source": [
        "25 de junio 2024\n"
      ],
      "metadata": {
        "id": "IvUPFihTlX8g"
      }
    },
    {
      "cell_type": "code",
      "source": [
        "# tmp = list()\n",
        "# tmp.append(2)\n",
        "# print(tmp)\n",
        "# tmp.append('oliver')\n",
        "# print(tmp)\n",
        "# tmp.append(5)\n",
        "# print(tmp)\n",
        "# tmp.append('alexander')\n",
        "# print(tmp)\n",
        "# print(tmp[3])\n",
        "# aux= tmp[3]\n",
        "# print(aux.upper())\n",
        "\n",
        "# tmp1= 'hello'\n",
        "# print(tmp1.capitalize())\n",
        "\n",
        "\n",
        "# aux1=[1,2,3,4,5,6,7,8,9,10]\n",
        "# print(aux1)\n",
        "\n",
        "# aux1[4]=10\n",
        "# print(aux1)\n",
        "\n",
        "\n",
        "# print(aux1[-1])\n",
        "# print(aux1[3:7])\n",
        "# print(aux1[0:5])\n",
        "# print(aux1[:5])\n",
        "\n",
        "\n",
        "# aux2=list()\n",
        "# for i in range(100):\n",
        "#   aux2.append(i)\n",
        "# print(aux2[:20])\n",
        "\n",
        "\n",
        "\n",
        "# aux3=list()\n",
        "# for indx, elem in enumerate(aux2):\n",
        "#   if aux2[indx]%2==0:\n",
        "#     aux3.append(aux2[indx])\n",
        "\n",
        "# print(aux3)\n",
        "\n",
        "\n",
        "# aux3=list()\n",
        "# for indx, elem in enumerate(aux2):\n",
        "#   if aux2[indx]%2==1:\n",
        "#     aux3.append(aux2[indx])\n",
        "\n",
        "# print(aux3)\n",
        "\n",
        "\n",
        "# aux3=list()\n",
        "# for indx, elem in enumerate(aux2):\n",
        "#   if aux2[indx]%2==0:\n",
        "#     aux3.append(aux2[indx]**2)\n",
        "\n",
        "# print(aux3)\n",
        "\n",
        "\n",
        "animal=['gato', 'perro', 'mono', 'raton']\n",
        "for animal in animal:\n",
        "  print(animal)\n",
        "\n",
        "\n",
        "tmp3 = [i**2 for i in range(10)]\n",
        "print(tmp3)\n",
        "\n",
        "tmp3 = [i**2 for i in range(10) if i%2==0]\n",
        "print(tmp3)\n",
        "\n"
      ],
      "metadata": {
        "colab": {
          "base_uri": "https://localhost:8080/"
        },
        "id": "bC15E888lhHH",
        "outputId": "07ccb294-e687-4f61-b892-909114f01b10"
      },
      "execution_count": null,
      "outputs": [
        {
          "output_type": "stream",
          "name": "stdout",
          "text": [
            "gato\n",
            "perro\n",
            "mono\n",
            "raton\n",
            "[0, 1, 4, 9, 16, 25, 36, 49, 64, 81]\n",
            "[0, 4, 16, 36, 64]\n"
          ]
        }
      ]
    },
    {
      "cell_type": "markdown",
      "source": [
        "Diccionario"
      ],
      "metadata": {
        "id": "cnsLHyRWvbTg"
      }
    },
    {
      "cell_type": "code",
      "source": [
        "myDictionay={'gato': 'bonito', 'perro': 'grande'}\n",
        "print(myDictionay['gato'])\n",
        "\n",
        "myDictionay1={'leon': 'fuerte', 'agila': 'pequeña'}\n",
        "print(myDictionay1['leon'])\n",
        "\n",
        "myDictionay.update(myDictionay1)\n",
        "print(myDictionay)\n",
        "\n",
        "for key, value in myDictionay.items():\n",
        "  print(f'key: {key} value: {value}')\n",
        "\n",
        "\n",
        "myList=[1,2,3,4,5,6]\n",
        "myDictAux1 = {x:x**2 for x in myList}\n",
        "print(myDictAux1)\n",
        "\n",
        "\n"
      ],
      "metadata": {
        "colab": {
          "base_uri": "https://localhost:8080/"
        },
        "id": "QIcwGkPMvcwg",
        "outputId": "35b4a6e4-b579-4ada-9517-8f432c440bc7"
      },
      "execution_count": null,
      "outputs": [
        {
          "output_type": "stream",
          "name": "stdout",
          "text": [
            "bonito\n",
            "fuerte\n",
            "{'gato': 'bonito', 'perro': 'grande', 'leon': 'fuerte', 'agila': 'pequeña'}\n",
            "key: gato value: bonito\n",
            "key: perro value: grande\n",
            "key: leon value: fuerte\n",
            "key: agila value: pequeña\n",
            "{1: 1, 2: 4, 3: 9, 4: 16, 5: 25, 6: 36}\n"
          ]
        }
      ]
    },
    {
      "cell_type": "markdown",
      "source": [
        "Palabras Claves funciones\n"
      ],
      "metadata": {
        "id": "WOu9fbGj4Bjb"
      }
    },
    {
      "cell_type": "code",
      "source": [
        "def operacion(var1, var2, operador):\n",
        "    if operador == 'suma':\n",
        "        resultado = var1 + var2\n",
        "    elif operador == 'resta':\n",
        "        resultado = var1 - var2\n",
        "\n",
        "    return resultado\n",
        "\n",
        "num1 = 3\n",
        "num2 = 6\n",
        "cadena = 'resta'\n",
        "\n",
        "resultado = operacion(num1, num2, cadena)\n",
        "\n",
        "print(f\"El resultado de la {cadena} es: {resultado}\")\n",
        "\n",
        "\n",
        "\n",
        "def suma(var1, var2, flag):\n",
        "  if flag==True:\n",
        "    tmp=var1+var2\n",
        "  else:\n",
        "    tmp=var1-var2\n",
        "  return tmp\n",
        "\n",
        "num1 =4\n",
        "num2 = 6\n",
        "control = False\n",
        "print(suma(num1, num2, control))\n",
        "\n",
        "\n",
        "listNumeros = [-1, +1, 0]\n",
        "def numero_positivo_negativo(num):\n",
        "    if num > 0:\n",
        "        print(f\"El número {num} es positivo.\")\n",
        "    elif num < 0:\n",
        "        print(f\"El número {num} es negativo.\")\n",
        "    else:\n",
        "        print(\"El número es cero.\")\n",
        "\n",
        "\n",
        "print(numero_positivo_negativo(listNumeros[2]))\n"
      ],
      "metadata": {
        "colab": {
          "base_uri": "https://localhost:8080/"
        },
        "id": "ub-eP8TW4D0a",
        "outputId": "e9a1ae7a-1b1d-4418-b44d-50fbb662e745"
      },
      "execution_count": null,
      "outputs": [
        {
          "output_type": "stream",
          "name": "stdout",
          "text": [
            "El resultado de la resta es: -3\n",
            "-2\n",
            "El número es cero.\n",
            "None\n"
          ]
        }
      ]
    },
    {
      "cell_type": "markdown",
      "source": [
        "SET AS A CONTAINER"
      ],
      "metadata": {
        "id": "sLD7ERSXw9sp"
      }
    },
    {
      "cell_type": "code",
      "source": [
        "var1 =set()\n",
        "var1.add(3)\n",
        "print(var1)\n",
        "var1.add('Oliver')\n",
        "var1.add(True)\n",
        "var1.add('Hola')\n",
        "print(var1)\n",
        "var1.remove('Hola')\n",
        "print(var1)\n",
        "\n",
        "print(len(var1))\n",
        "\n",
        "print(3 in var1)\n",
        "\n",
        "for elem in var1:\n",
        "  print(elem)"
      ],
      "metadata": {
        "colab": {
          "base_uri": "https://localhost:8080/"
        },
        "id": "GAWagppvxBJw",
        "outputId": "39a2e936-10aa-4164-8132-7b62cfb078c5"
      },
      "execution_count": 9,
      "outputs": [
        {
          "output_type": "stream",
          "name": "stdout",
          "text": [
            "{3}\n",
            "{True, 3, 'Hola', 'Oliver'}\n",
            "{True, 3, 'Oliver'}\n",
            "3\n",
            "True\n",
            "True\n",
            "3\n",
            "Oliver\n"
          ]
        }
      ]
    },
    {
      "cell_type": "code",
      "source": [
        "#JUPLES\n",
        "\n",
        "var2 = tuple()\n",
        "\n",
        "# Crear una nueva tupla con elementos adicionales\n",
        "var2 = var2 + ('como', 1, True)\n",
        "print(var2)\n",
        "print(type(var2))\n",
        "\n",
        "var2_lista = list(var2)\n",
        "var2_lista.remove('como')\n",
        "print(var2_lista)\n",
        "print(type(var2_lista))\n",
        "\n",
        "\n",
        "\n",
        "#aux[2]=300\n",
        "#var=tuple(aux)\n",
        "#print(var)\n",
        "#print(type(var))"
      ],
      "metadata": {
        "colab": {
          "base_uri": "https://localhost:8080/"
        },
        "id": "Xg26V0iazWbI",
        "outputId": "d01aad4c-7a9c-4733-aeda-fd5ced0bfb1c"
      },
      "execution_count": 18,
      "outputs": [
        {
          "output_type": "stream",
          "name": "stdout",
          "text": [
            "('como', 1, True)\n",
            "<class 'tuple'>\n",
            "[1, True]\n",
            "<class 'list'>\n"
          ]
        }
      ]
    },
    {
      "cell_type": "code",
      "source": [
        "#HOY TO DEFINE CLASS\n",
        "class saludo(object):\n",
        "  def __init__(self, name):\n",
        "    print(\"El objeto a sido creado\")\n",
        "    self.name=name\n",
        "\n",
        "  def saludoPersonal(self):\n",
        "    return f\"Hola, {self.name}\"\n",
        "\n",
        "\n",
        "name1= saludo('Alexander')\n",
        "name2= saludo('Aksuya')\n",
        "name3= saludo('1234')\n",
        "\n",
        "print(name1.saludoPersonal())"
      ],
      "metadata": {
        "colab": {
          "base_uri": "https://localhost:8080/"
        },
        "id": "aDZva_Tp2jHX",
        "outputId": "993ee7b9-0e91-4d47-93b3-c4f56739cd68"
      },
      "execution_count": 24,
      "outputs": [
        {
          "output_type": "stream",
          "name": "stdout",
          "text": [
            "El objeto a sido creado\n",
            "El objeto a sido creado\n",
            "El objeto a sido creado\n",
            "Hola, Alexander\n"
          ]
        }
      ]
    },
    {
      "cell_type": "code",
      "source": [
        "#ESTA CLASE TIENE QUE ACEPTAR TRES PARAMETROS: RADIO, BASE Y LA ALTURA. UNA FUNCION PARA CALCULAR EL AREA DE UN CIRCULO, Y UN TRIANGULO.\n",
        "\n",
        "import math\n",
        "\n",
        "class FigurasGeometricas:\n",
        "    def __init__(self, radio, base, altura):\n",
        "        self.radio = radio\n",
        "        self.base = base\n",
        "        self.altura = altura\n",
        "\n",
        "    def calcular_area_circulo(self):\n",
        "        area_circulo = math.pi * self.radio ** 2\n",
        "        return area_circulo\n",
        "\n",
        "    def calcular_area_triangulo(self):\n",
        "        area_triangulo = (self.base * self.altura) / 2\n",
        "        return area_triangulo\n",
        "\n",
        "    def calcular_area_cuadrado(self):\n",
        "        area_cuadrado = (self.altura * self.altura)\n",
        "        return area_cuadrado\n",
        "\n",
        "\n",
        "figura = FigurasGeometricas(radio=5, base=6, altura=4)\n",
        "\n",
        "area_circulo = figura.calcular_area_circulo()\n",
        "print(f\"El área del círculo es: {area_circulo:.2f}\")\n",
        "\n",
        "area_triangulo = figura.calcular_area_triangulo()\n",
        "print(f\"El área del triángulo es: {area_triangulo:.2f}\")\n",
        "\n",
        "area_cuadrado = figura.calcular_area_cuadrado()\n",
        "print(f\"El área del cuadrado es: {area_cuadrado:.2f}\")\n",
        "\n"
      ],
      "metadata": {
        "colab": {
          "base_uri": "https://localhost:8080/"
        },
        "id": "C6GFCLmp4ROG",
        "outputId": "2695aad3-fdfa-46b7-c61c-39978871bfb6"
      },
      "execution_count": 30,
      "outputs": [
        {
          "output_type": "stream",
          "name": "stdout",
          "text": [
            "El área del círculo es: 78.54\n",
            "El área del triángulo es: 12.00\n",
            "El área del cuadrado es: 16.00\n"
          ]
        }
      ]
    },
    {
      "cell_type": "code",
      "source": [
        "# clase que permita dos valores, nombre y edad. Dentro de esa clase debe tener una funcion que imprima todo en mayuscula y otra funcion que sea todo en minusculas.\n",
        "\n",
        "class printingNameAge(object):\n",
        "  def __init__(self, name, age):\n",
        "     self.name = name\n",
        "     self.age = age\n",
        "     print(f\"El objeto a sido creado\")\n",
        "\n",
        "  def uppercase(self):\n",
        "    return f\"Nombre: {self.name.upper()} y el año: {self.age}\"\n",
        "\n",
        "student1 = printingNameAge('Oliver', 30)\n",
        "\n",
        "print(student1.uppercase())"
      ],
      "metadata": {
        "colab": {
          "base_uri": "https://localhost:8080/"
        },
        "id": "Frhy_hCm_Vgm",
        "outputId": "51909e52-f011-4f46-da9b-762461ac49e3"
      },
      "execution_count": 42,
      "outputs": [
        {
          "output_type": "stream",
          "name": "stdout",
          "text": [
            "El objeto a sido creado\n",
            "Nombre: OLIVER y el año: 30\n"
          ]
        }
      ]
    },
    {
      "cell_type": "code",
      "source": [
        "#Crear una clase para sumar, restar, multiplicar y dividir.\n",
        "\n",
        "class Calculadora:\n",
        "    def sumar(self, a, b):\n",
        "        return a + b\n",
        "\n",
        "    def restar(self, a, b):\n",
        "        return a - b\n",
        "\n",
        "    def multiplicar(self, a, b):\n",
        "        return a * b\n",
        "\n",
        "    def dividir(self, a, b):\n",
        "        if b == 0:\n",
        "            raise ValueError(\"Error: No se puede dividir por cero.\")\n",
        "        return a / b\n",
        "\n",
        "    def es_par(self, numero):\n",
        "        if numero % 2 == 0:\n",
        "            return \"Par\"\n",
        "        else:\n",
        "            return \"Impar\"\n",
        "\n",
        "\n",
        "calculadora = Calculadora()\n",
        "\n",
        "resultado_suma = calculadora.sumar(2, 2)\n",
        "resultado_resta = calculadora.restar(6, 7)\n",
        "\n",
        "print(f\"La suma es: {resultado_suma} El Resultado es: {calculadora.es_par(resultado_suma)}\")\n",
        "print(f\"La resta es: {resultado_resta} El Resultado es: {calculadora.es_par(resultado_resta)}\")\n"
      ],
      "metadata": {
        "colab": {
          "base_uri": "https://localhost:8080/"
        },
        "id": "RnqfkF-PDLF0",
        "outputId": "2d45cb68-713a-483c-90b4-04c1d0b8efa3"
      },
      "execution_count": 53,
      "outputs": [
        {
          "output_type": "stream",
          "name": "stdout",
          "text": [
            "La suma es: 4 El Resultado es: Par\n",
            "La resta es: -1 El Resultado es: Impar\n"
          ]
        }
      ]
    }
  ]
}